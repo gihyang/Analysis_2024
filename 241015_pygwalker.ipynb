{
 "cells": [
  {
   "cell_type": "markdown",
   "id": "8a5d6d37-b7af-4b37-ae6f-18cccba45bde",
   "metadata": {},
   "source": [
    "!pip install pygwalker\n",
    "!pip install jupyter_server_proxy"
   ]
  },
  {
   "cell_type": "code",
   "execution_count": 1,
   "id": "1a379cf4-5a57-430e-bdd0-53e27410f2e2",
   "metadata": {},
   "outputs": [],
   "source": [
    "import pandas as pd\n",
    "import numpy as np\n",
    "import pygwalker as pyg\n",
    "import jupyter_server_proxy"
   ]
  },
  {
   "cell_type": "code",
   "execution_count": 2,
   "id": "fee8de6b-041c-443f-b70d-3ccb23e3f45e",
   "metadata": {},
   "outputs": [
    {
     "data": {
      "text/html": [
       "<div>\n",
       "<style scoped>\n",
       "    .dataframe tbody tr th:only-of-type {\n",
       "        vertical-align: middle;\n",
       "    }\n",
       "\n",
       "    .dataframe tbody tr th {\n",
       "        vertical-align: top;\n",
       "    }\n",
       "\n",
       "    .dataframe thead th {\n",
       "        text-align: right;\n",
       "    }\n",
       "</style>\n",
       "<table border=\"1\" class=\"dataframe\">\n",
       "  <thead>\n",
       "    <tr style=\"text-align: right;\">\n",
       "      <th></th>\n",
       "      <th>idx</th>\n",
       "      <th>Machine_Name</th>\n",
       "      <th>Item No</th>\n",
       "      <th>working time</th>\n",
       "      <th>Thickness 1(mm)</th>\n",
       "      <th>Thickness 2(mm)</th>\n",
       "      <th>weld force(bar)</th>\n",
       "      <th>weld current(kA)</th>\n",
       "      <th>weld Voltage(v)</th>\n",
       "      <th>weld time(ms)</th>\n",
       "    </tr>\n",
       "  </thead>\n",
       "  <tbody>\n",
       "    <tr>\n",
       "      <th>0</th>\n",
       "      <td>1</td>\n",
       "      <td>Spot-01</td>\n",
       "      <td>65235-25800</td>\n",
       "      <td>2020-03-24</td>\n",
       "      <td>0.7</td>\n",
       "      <td>0.7</td>\n",
       "      <td>2.33</td>\n",
       "      <td>14.57</td>\n",
       "      <td>2.701</td>\n",
       "      <td>72.0</td>\n",
       "    </tr>\n",
       "    <tr>\n",
       "      <th>1</th>\n",
       "      <td>2</td>\n",
       "      <td>Spot-01</td>\n",
       "      <td>65235-25800</td>\n",
       "      <td>2020-03-24</td>\n",
       "      <td>0.7</td>\n",
       "      <td>0.7</td>\n",
       "      <td>2.36</td>\n",
       "      <td>14.57</td>\n",
       "      <td>2.701</td>\n",
       "      <td>72.0</td>\n",
       "    </tr>\n",
       "    <tr>\n",
       "      <th>2</th>\n",
       "      <td>3</td>\n",
       "      <td>Spot-01</td>\n",
       "      <td>65235-25800</td>\n",
       "      <td>2020-03-24</td>\n",
       "      <td>0.7</td>\n",
       "      <td>0.7</td>\n",
       "      <td>2.37</td>\n",
       "      <td>14.54</td>\n",
       "      <td>2.703</td>\n",
       "      <td>71.0</td>\n",
       "    </tr>\n",
       "    <tr>\n",
       "      <th>3</th>\n",
       "      <td>4</td>\n",
       "      <td>Spot-01</td>\n",
       "      <td>65235-25800</td>\n",
       "      <td>2020-03-24</td>\n",
       "      <td>0.7</td>\n",
       "      <td>0.7</td>\n",
       "      <td>2.37</td>\n",
       "      <td>14.54</td>\n",
       "      <td>2.703</td>\n",
       "      <td>72.0</td>\n",
       "    </tr>\n",
       "    <tr>\n",
       "      <th>4</th>\n",
       "      <td>5</td>\n",
       "      <td>Spot-01</td>\n",
       "      <td>65235-25800</td>\n",
       "      <td>2020-03-24</td>\n",
       "      <td>0.7</td>\n",
       "      <td>0.7</td>\n",
       "      <td>2.36</td>\n",
       "      <td>14.56</td>\n",
       "      <td>2.704</td>\n",
       "      <td>72.0</td>\n",
       "    </tr>\n",
       "  </tbody>\n",
       "</table>\n",
       "</div>"
      ],
      "text/plain": [
       "   idx Machine_Name      Item No working time  Thickness 1(mm)  \\\n",
       "0    1      Spot-01  65235-25800   2020-03-24              0.7   \n",
       "1    2      Spot-01  65235-25800   2020-03-24              0.7   \n",
       "2    3      Spot-01  65235-25800   2020-03-24              0.7   \n",
       "3    4      Spot-01  65235-25800   2020-03-24              0.7   \n",
       "4    5      Spot-01  65235-25800   2020-03-24              0.7   \n",
       "\n",
       "   Thickness 2(mm)  weld force(bar)  weld current(kA)  weld Voltage(v)  \\\n",
       "0              0.7             2.33             14.57            2.701   \n",
       "1              0.7             2.36             14.57            2.701   \n",
       "2              0.7             2.37             14.54            2.703   \n",
       "3              0.7             2.37             14.54            2.703   \n",
       "4              0.7             2.36             14.56            2.704   \n",
       "\n",
       "   weld time(ms)  \n",
       "0           72.0  \n",
       "1           72.0  \n",
       "2           71.0  \n",
       "3           72.0  \n",
       "4           72.0  "
      ]
     },
     "execution_count": 2,
     "metadata": {},
     "output_type": "execute_result"
    }
   ],
   "source": [
    "df = pd.read_excel(\"./data/Welding Data Set_01.xlsx\")\n",
    "df.head(5)"
   ]
  },
  {
   "cell_type": "code",
   "execution_count": 3,
   "id": "440cce38-919b-4cb2-823c-00ee8dae7e56",
   "metadata": {},
   "outputs": [
    {
     "data": {
      "application/vnd.jupyter.widget-view+json": {
       "model_id": "2dc44ccc1fb640c999559bc3c8cb970c",
       "version_major": 2,
       "version_minor": 0
      },
      "text/plain": [
       "Box(children=(HTML(value='\\n<div id=\"ifr-pyg-0006247d6f1e3791dP0Caow7FUmHsWzO\" style=\"height: auto\">\\n    <hea…"
      ]
     },
     "metadata": {},
     "output_type": "display_data"
    },
    {
     "data": {
      "text/html": [
       "<script>\n",
       "    window.addEventListener(\"message\", function(event) {\n",
       "        const backgroundMap = {\n",
       "            \"dark\": \"hsl(240 10% 3.9%)\",\n",
       "            \"light\": \"hsl(0 0 100%)\",\n",
       "        };\n",
       "        const colorMap = {\n",
       "            \"dark\": \"hsl(0 0% 98%)\",\n",
       "            \"light\": \"hsl(240 10% 3.9%)\",\n",
       "        };\n",
       "        if (event.data.action === \"changeAppearance\" && event.data.gid === \"0006247d6f1e3791dP0Caow7FUmHsWzO\") {\n",
       "            var iframe = document.getElementById(\"gwalker-0006247d6f1e3791dP0Caow7FUmHsWzO\");\n",
       "            iframe.style.background  = backgroundMap[event.data.appearance];\n",
       "            iframe.style.color = colorMap[event.data.appearance];\n",
       "        }\n",
       "    });\n",
       "</script>"
      ],
      "text/plain": [
       "<IPython.core.display.HTML object>"
      ]
     },
     "metadata": {},
     "output_type": "display_data"
    },
    {
     "data": {
      "text/html": [],
      "text/plain": [
       "<IPython.core.display.HTML object>"
      ]
     },
     "metadata": {},
     "output_type": "display_data"
    }
   ],
   "source": [
    "walker = pyg.walk(df)"
   ]
  },
  {
   "cell_type": "code",
   "execution_count": 4,
   "id": "3ea34575-dace-4221-8069-6d1f7459fbd6",
   "metadata": {},
   "outputs": [
    {
     "data": {
      "text/html": [
       "<div>\n",
       "<style scoped>\n",
       "    .dataframe tbody tr th:only-of-type {\n",
       "        vertical-align: middle;\n",
       "    }\n",
       "\n",
       "    .dataframe tbody tr th {\n",
       "        vertical-align: top;\n",
       "    }\n",
       "\n",
       "    .dataframe thead th {\n",
       "        text-align: right;\n",
       "    }\n",
       "</style>\n",
       "<table border=\"1\" class=\"dataframe\">\n",
       "  <thead>\n",
       "    <tr style=\"text-align: right;\">\n",
       "      <th></th>\n",
       "      <th>Unnamed: 0</th>\n",
       "      <th>용접 가압력</th>\n",
       "      <th>전류</th>\n",
       "      <th>전압</th>\n",
       "      <th>통전시간</th>\n",
       "    </tr>\n",
       "  </thead>\n",
       "  <tbody>\n",
       "    <tr>\n",
       "      <th>0</th>\n",
       "      <td>0</td>\n",
       "      <td>0.004482</td>\n",
       "      <td>0.001717</td>\n",
       "      <td>0.002506</td>\n",
       "      <td>0.000461</td>\n",
       "    </tr>\n",
       "    <tr>\n",
       "      <th>1</th>\n",
       "      <td>1</td>\n",
       "      <td>0.005412</td>\n",
       "      <td>0.000501</td>\n",
       "      <td>0.002506</td>\n",
       "      <td>0.000922</td>\n",
       "    </tr>\n",
       "    <tr>\n",
       "      <th>2</th>\n",
       "      <td>2</td>\n",
       "      <td>0.004989</td>\n",
       "      <td>0.000358</td>\n",
       "      <td>0.507830</td>\n",
       "      <td>0.000922</td>\n",
       "    </tr>\n",
       "    <tr>\n",
       "      <th>3</th>\n",
       "      <td>3</td>\n",
       "      <td>0.005243</td>\n",
       "      <td>0.000358</td>\n",
       "      <td>0.002506</td>\n",
       "      <td>0.000922</td>\n",
       "    </tr>\n",
       "    <tr>\n",
       "      <th>4</th>\n",
       "      <td>4</td>\n",
       "      <td>0.005327</td>\n",
       "      <td>0.000143</td>\n",
       "      <td>0.002506</td>\n",
       "      <td>0.000461</td>\n",
       "    </tr>\n",
       "    <tr>\n",
       "      <th>...</th>\n",
       "      <td>...</td>\n",
       "      <td>...</td>\n",
       "      <td>...</td>\n",
       "      <td>...</td>\n",
       "      <td>...</td>\n",
       "    </tr>\n",
       "    <tr>\n",
       "      <th>11934</th>\n",
       "      <td>11934</td>\n",
       "      <td>0.005158</td>\n",
       "      <td>0.000715</td>\n",
       "      <td>0.002401</td>\n",
       "      <td>0.000461</td>\n",
       "    </tr>\n",
       "    <tr>\n",
       "      <th>11935</th>\n",
       "      <td>11935</td>\n",
       "      <td>0.003721</td>\n",
       "      <td>0.000930</td>\n",
       "      <td>0.002506</td>\n",
       "      <td>0.000922</td>\n",
       "    </tr>\n",
       "    <tr>\n",
       "      <th>11936</th>\n",
       "      <td>11936</td>\n",
       "      <td>0.004651</td>\n",
       "      <td>0.001645</td>\n",
       "      <td>0.002610</td>\n",
       "      <td>0.000922</td>\n",
       "    </tr>\n",
       "    <tr>\n",
       "      <th>11937</th>\n",
       "      <td>11937</td>\n",
       "      <td>0.005074</td>\n",
       "      <td>0.268136</td>\n",
       "      <td>0.002610</td>\n",
       "      <td>0.000922</td>\n",
       "    </tr>\n",
       "    <tr>\n",
       "      <th>11938</th>\n",
       "      <td>11938</td>\n",
       "      <td>0.005327</td>\n",
       "      <td>0.000286</td>\n",
       "      <td>0.002610</td>\n",
       "      <td>0.000461</td>\n",
       "    </tr>\n",
       "  </tbody>\n",
       "</table>\n",
       "<p>11939 rows × 5 columns</p>\n",
       "</div>"
      ],
      "text/plain": [
       "       Unnamed: 0    용접 가압력        전류        전압      통전시간\n",
       "0               0  0.004482  0.001717  0.002506  0.000461\n",
       "1               1  0.005412  0.000501  0.002506  0.000922\n",
       "2               2  0.004989  0.000358  0.507830  0.000922\n",
       "3               3  0.005243  0.000358  0.002506  0.000922\n",
       "4               4  0.005327  0.000143  0.002506  0.000461\n",
       "...           ...       ...       ...       ...       ...\n",
       "11934       11934  0.005158  0.000715  0.002401  0.000461\n",
       "11935       11935  0.003721  0.000930  0.002506  0.000922\n",
       "11936       11936  0.004651  0.001645  0.002610  0.000922\n",
       "11937       11937  0.005074  0.268136  0.002610  0.000922\n",
       "11938       11938  0.005327  0.000286  0.002610  0.000461\n",
       "\n",
       "[11939 rows x 5 columns]"
      ]
     },
     "execution_count": 4,
     "metadata": {},
     "output_type": "execute_result"
    }
   ],
   "source": [
    "scaler_csv = pd.read_csv(\"./Data/scaled_data.xls\", encoding=\"cp949\")\n",
    "scaler_csv"
   ]
  },
  {
   "cell_type": "code",
   "execution_count": null,
   "id": "5a3b6bc5-0705-441a-9583-964bcd79f061",
   "metadata": {},
   "outputs": [
    {
     "data": {
      "application/vnd.jupyter.widget-view+json": {
       "model_id": "26234ff6b6114a47a0545d11bc7aab47",
       "version_major": 2,
       "version_minor": 0
      },
      "text/plain": [
       "Box(children=(HTML(value='\\n<div id=\"ifr-pyg-0006247d6f228ba6MbC79UGg3QOovZP0\" style=\"height: auto\">\\n    <hea…"
      ]
     },
     "metadata": {},
     "output_type": "display_data"
    },
    {
     "data": {
      "text/html": [
       "<script>\n",
       "    window.addEventListener(\"message\", function(event) {\n",
       "        const backgroundMap = {\n",
       "            \"dark\": \"hsl(240 10% 3.9%)\",\n",
       "            \"light\": \"hsl(0 0 100%)\",\n",
       "        };\n",
       "        const colorMap = {\n",
       "            \"dark\": \"hsl(0 0% 98%)\",\n",
       "            \"light\": \"hsl(240 10% 3.9%)\",\n",
       "        };\n",
       "        if (event.data.action === \"changeAppearance\" && event.data.gid === \"0006247d6f228ba6MbC79UGg3QOovZP0\") {\n",
       "            var iframe = document.getElementById(\"gwalker-0006247d6f228ba6MbC79UGg3QOovZP0\");\n",
       "            iframe.style.background  = backgroundMap[event.data.appearance];\n",
       "            iframe.style.color = colorMap[event.data.appearance];\n",
       "        }\n",
       "    });\n",
       "</script>"
      ],
      "text/plain": [
       "<IPython.core.display.HTML object>"
      ]
     },
     "metadata": {},
     "output_type": "display_data"
    },
    {
     "data": {
      "text/html": [],
      "text/plain": [
       "<IPython.core.display.HTML object>"
      ]
     },
     "metadata": {},
     "output_type": "display_data"
    }
   ],
   "source": [
    "walker2 = pyg.walk(scaler_csv)"
   ]
  },
  {
   "cell_type": "code",
   "execution_count": null,
   "id": "e9d5380b-ff07-40ce-bce5-07354774f3a7",
   "metadata": {},
   "outputs": [],
   "source": [
    "walker"
   ]
  },
  {
   "cell_type": "code",
   "execution_count": null,
   "id": "81d71c62-271d-40e6-8811-f9396a25620c",
   "metadata": {},
   "outputs": [],
   "source": [
    "walker2"
   ]
  },
  {
   "cell_type": "code",
   "execution_count": null,
   "id": "37f22136-8205-47e8-9463-a03fa6f9e939",
   "metadata": {},
   "outputs": [],
   "source": []
  },
  {
   "cell_type": "code",
   "execution_count": null,
   "id": "90c16cb7-6c73-4927-8589-3f01c605bcf4",
   "metadata": {},
   "outputs": [],
   "source": []
  },
  {
   "cell_type": "code",
   "execution_count": null,
   "id": "d04cd56f-b858-4809-bf14-da71aa434b42",
   "metadata": {},
   "outputs": [],
   "source": []
  }
 ],
 "metadata": {
  "kernelspec": {
   "display_name": "Python 3 (ipykernel)",
   "language": "python",
   "name": "python3"
  },
  "language_info": {
   "codemirror_mode": {
    "name": "ipython",
    "version": 3
   },
   "file_extension": ".py",
   "mimetype": "text/x-python",
   "name": "python",
   "nbconvert_exporter": "python",
   "pygments_lexer": "ipython3",
   "version": "3.12.6"
  }
 },
 "nbformat": 4,
 "nbformat_minor": 5
}
